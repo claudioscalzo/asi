{
 "cells": [
  {
   "cell_type": "markdown",
   "metadata": {},
   "source": [
    "<h1 style=\"text-align:center\">Advanced Statistical Inference</h1>\n",
    "<h1 style=\"text-align:center\">Loss minimization</h1>"
   ]
  },
  {
   "cell_type": "markdown",
   "metadata": {},
   "source": [
    "## 1. Aims\n",
    "<div class=\"alert alert-info\">\n",
    "To perform a least squares fit to the Olympic 100m data.\n",
    "</div>"
   ]
  },
  {
   "cell_type": "markdown",
   "metadata": {},
   "source": [
    "## 2. Olympic data \n",
    "<div class=\"alert alert-info\">\n",
    "Download the olympic matlab file from the ASI collaborative space. Use the `loadmat()` function from scipy to load the data, then using 'male100' as key retrieve the data from the first column and the labels from the second with the proper indexing.\n",
    "</div>"
   ]
  },
  {
   "cell_type": "code",
   "execution_count": 1,
   "metadata": {
    "collapsed": true
   },
   "outputs": [],
   "source": [
    "import math\n",
    "import scipy.io\n",
    "import numpy as np\n",
    "import matplotlib.pyplot as plt\n",
    "from scipy import optimize\n",
    "from sklearn.metrics import mean_squared_error\n",
    "mat = scipy.io.loadmat('olympics.mat')"
   ]
  },
  {
   "cell_type": "code",
   "execution_count": 2,
   "metadata": {
    "collapsed": true
   },
   "outputs": [],
   "source": [
    "x = mat['male100'][:,0]\n",
    "t = mat['male100'][:,1]"
   ]
  },
  {
   "cell_type": "code",
   "execution_count": 3,
   "metadata": {},
   "outputs": [
    {
     "name": "stdout",
     "output_type": "stream",
     "text": [
      "(27,)\n",
      "(27,)\n"
     ]
    }
   ],
   "source": [
    "print(x.shape)\n",
    "print(t.shape)"
   ]
  },
  {
   "cell_type": "markdown",
   "metadata": {},
   "source": [
    "<div class=\"alert alert-success\">\n",
    "Plot the data.\n",
    "</div>"
   ]
  },
  {
   "cell_type": "code",
   "execution_count": 4,
   "metadata": {},
   "outputs": [
    {
     "data": {
      "image/png": "[encoded data removed]",
      "text/plain": [
       "<matplotlib.figure.Figure at 0x201113d82e8>"
      ]
     },
     "metadata": {},
     "output_type": "display_data"
    }
   ],
   "source": [
    "plt.figure(figsize=(15,5))\n",
    "ax = plt.gca()\n",
    "ax.scatter(x, t, color='k')\n",
    "ax.set_xlabel('Year', fontsize=20)\n",
    "ax.set_ylabel('Time [s]', fontsize=20)\n",
    "plt.title('Olympics 100m', fontsize=25)\n",
    "plt.grid()\n",
    "plt.show()"
   ]
  },
  {
   "cell_type": "markdown",
   "metadata": {},
   "source": [
    "<div class=\"alert alert-info\">\n",
    "We’ll now fit the model $t = w_0 + w_1x$ to our data. This model fitting step is something we\n",
    "might wish to do more than once, so it makes sense to create a function, `lsfit()`.\n",
    "\n",
    "Recall from the lectures that\n",
    "\n",
    "$$\n",
    "w_1 = \\dfrac {\\bar {tx} - \\bar t \\bar x}{\\bar {x^2} - \\bar {x}^2}\n",
    "$$\n",
    "\n",
    "$$\n",
    "w_0 = \\bar t - w_1 \\bar x\n",
    "$$\n",
    "\n",
    "where \n",
    "$$\n",
    "\\bar f(x) = \\dfrac {1}{N} \\sum_{n=1}^{N} f_n(x)\n",
    "$$\n",
    "\n",
    "Complete the function provided below accordingly.\n",
    "</div>"
   ]
  },
  {
   "cell_type": "code",
   "execution_count": 5,
   "metadata": {
    "collapsed": true
   },
   "outputs": [],
   "source": [
    "def lsfit(x,t):\n",
    "    \"\"\"\n",
    "    Least-Squares fit: \n",
    "    given data and labels, it returns W and the loss (MSE)\n",
    "    \"\"\"\n",
    "    x, t = np.array(x), np.array(t)\n",
    "    \n",
    "    w1 = (np.mean(x * t) - np.mean(x) * np.mean(t)) / (np.mean(np.square(x)) - (pow(np.mean(x), 2)))\n",
    "    w0 = np.mean(t) - w1 * np.mean(x)\n",
    "    regr_func = np.vectorize(lambda x: w1*x + w0)\n",
    "    loss = ((t - regr_func(x)) ** 2).mean(axis=0)\n",
    "    return w0, w1, loss"
   ]
  },
  {
   "cell_type": "code",
   "execution_count": 6,
   "metadata": {
    "collapsed": true
   },
   "outputs": [],
   "source": [
    "w0, w1, loss = lsfit(x, t)"
   ]
  },
  {
   "cell_type": "markdown",
   "metadata": {},
   "source": [
    "<div class=\"alert alert-info\">\n",
    "Inspect the values in the variables `w0` and `w1` – do they agree with the values provided in the notes?\n",
    "</div>"
   ]
  },
  {
   "cell_type": "code",
   "execution_count": 7,
   "metadata": {},
   "outputs": [
    {
     "name": "stdout",
     "output_type": "stream",
     "text": [
      "w0: 36.4164559025\n",
      "w1: -0.013330885711\n",
      "loss: 0.0503071104757\n"
     ]
    }
   ],
   "source": [
    "print(\"w0:\", w0)\n",
    "print(\"w1:\", w1)\n",
    "print(\"loss:\", loss)"
   ]
  },
  {
   "cell_type": "markdown",
   "metadata": {},
   "source": [
    "<div class=\"alert alert-info\">\n",
    "We can now plot the line on top of our data. The plotted line should run through the data as shown in the lectures.\n",
    "</div>"
   ]
  },
  {
   "cell_type": "code",
   "execution_count": 8,
   "metadata": {
    "collapsed": true
   },
   "outputs": [],
   "source": [
    "def get_lin_regr(x, w):\n",
    "    \n",
    "    regr_func = np.vectorize(lambda x: w[1]*x + w[0])\n",
    "    t_pred = regr_func(x)\n",
    "    return t_pred"
   ]
  },
  {
   "cell_type": "code",
   "execution_count": 9,
   "metadata": {},
   "outputs": [
    {
     "data": {
      "image/png": "[encoded data removed]",
      "text/plain": [
       "<matplotlib.figure.Figure at 0x201113c6780>"
      ]
     },
     "metadata": {},
     "output_type": "display_data"
    }
   ],
   "source": [
    "# Plot results\n",
    "plt.figure(figsize=(15,5))\n",
    "\n",
    "ax = plt.gca()\n",
    "\n",
    "# computing the line in the range of years and plot the line\n",
    "x_range = np.arange(1890, 2010, 1)\n",
    "y = get_lin_regr(x_range, [w0, w1])\n",
    "ax.plot(x_range, y, linestyle=\"dashed\")\n",
    "\n",
    "# scatter plot\n",
    "ax.scatter(x, t, color='k')\n",
    "ax.set_xlabel('Year', fontsize=20)\n",
    "ax.set_ylabel('Time [s]', fontsize=20)\n",
    "plt.title('Olympics 100m', fontsize=25)\n",
    "plt.grid()\n",
    "plt.show()"
   ]
  },
  {
   "cell_type": "markdown",
   "metadata": {},
   "source": [
    "<div class=\"alert alert-info\">\n",
    "Extend your script in the following ways:\n",
    "<ul>\n",
    "<li>Add comments so that others (and you) can see what you’ve done.\n",
    "<li>Put labels on the plot axes – xlabel and ylabel will be useful.\n",
    "<li>Compute the average loss: $L = \\dfrac{1}{N} \\sum_{n=1}^{N} (t_n - w_0 - w_1x_n )^2 $. Do this in the lsfit function\n",
    "and return it as an additional variable.\n",
    "<li>Fit a function to the women’s 100m instead. This data is inside the same matlab file (use 'female100' as key).\n",
    "<li>Fit a function to the men’s and women’s 100m and find the year that the two races are\n",
    "predicted to have the same winning time.\n",
    "</ul>\n",
    "</div>"
   ]
  },
  {
   "cell_type": "code",
   "execution_count": 10,
   "metadata": {
    "collapsed": true
   },
   "outputs": [],
   "source": [
    "x_fem = mat['female100'][:,0]\n",
    "t_fem = mat['female100'][:,1]\n",
    "w0_fem, w1_fem, loss = lsfit(x_fem, t_fem)"
   ]
  },
  {
   "cell_type": "code",
   "execution_count": 11,
   "metadata": {},
   "outputs": [
    {
     "data": {
      "image/png": "[encoded data removed]",
      "text/plain": [
       "<matplotlib.figure.Figure at 0x2011177e550>"
      ]
     },
     "metadata": {},
     "output_type": "display_data"
    }
   ],
   "source": [
    "# Plot results for 'male' and 'female' data on same figure\n",
    "plt.figure(figsize=(15,5))\n",
    "\n",
    "ax = plt.gca()\n",
    "\n",
    "# computing the line in the range of years and plot the line\n",
    "x_range = np.arange(1890, 2010, 1)\n",
    "y_men = get_lin_regr(x_range, [w0, w1])\n",
    "y_women = get_lin_regr(x_range, [w0_fem, w1_fem])\n",
    "ax.plot(x_range, y_men, linestyle=\"dashed\")\n",
    "ax.plot(x_range, y_women, linestyle=\"dashed\", color=\"hotpink\")\n",
    "\n",
    "# men scatter plot\n",
    "ax.scatter(x, t, color='b')\n",
    "\n",
    "# women scatter plot\n",
    "ax.scatter(x_fem, t_fem, color='hotpink')\n",
    "ax.set_xlabel('Year', fontsize=20)\n",
    "ax.set_ylabel('Time [s]', fontsize=20)\n",
    "plt.title('Olympics 100m', fontsize=25)\n",
    "plt.grid()\n",
    "plt.show()"
   ]
  },
  {
   "cell_type": "code",
   "execution_count": 12,
   "metadata": {},
   "outputs": [
    {
     "name": "stdout",
     "output_type": "stream",
     "text": [
      "Intersection year: 2590\n"
     ]
    }
   ],
   "source": [
    "# Calculate year in which both races will have the same winning time\n",
    "year_intersection = math.ceil((w0_fem - w0) / (w1 - w1_fem))\n",
    "print(\"Intersection year:\", year_intersection)"
   ]
  },
  {
   "cell_type": "markdown",
   "metadata": {},
   "source": [
    "<h1 style=\"text-align:center\">Loss minimization in vector form</h1>"
   ]
  },
  {
   "cell_type": "markdown",
   "metadata": {},
   "source": [
    "## 1. Aims:\n",
    "<div class=\"alert alert-info\">\n",
    "<ul>\n",
    "<li> To become familiar with vector and matrix operations in python.\n",
    "<li> Implementing a cross-validation procedure for model selection.\n",
    "</ul>\n",
    "</div>"
   ]
  },
  {
   "cell_type": "markdown",
   "metadata": {},
   "source": [
    "## 2. Vectors and matrices\n",
    "<div class=\"alert alert-info\">\n",
    "Load the olympics data, as in the previous lab, for `male100`.\n",
    "</div>"
   ]
  },
  {
   "cell_type": "markdown",
   "metadata": {},
   "source": [
    "## 2.1. Least squares in matrix form\n",
    "<div class=\"alert alert-info\">\n",
    "In the lectures, we derived the following expression for the least squares solution in vector form:\n",
    "\n",
    "$$\n",
    "\\hat{\\mathbf{w}} = (\\mathbf{X}^T\\mathbf{X})^{-1}\\mathbf{X}^T\\mathbf{t}\n",
    "$$\n",
    "where\n",
    "$$\n",
    "\\mathbf{X} = \\left[ {\\begin{array}{ccccc}\n",
    "   1 & x_1^1 & \\dots & x_1^K\\\\\n",
    "   1 & x_2^1 & \\dots & x_2^K\\\\\n",
    "   \\vdots &    \\vdots & &   \\vdots \\\\\n",
    "   1 & x_N^1 & \\dots & x_N^K\\\\\n",
    "  \\end{array} } \\right]\n",
    "$$\n",
    "Our first step is to create X. This can be done in many ways. One of them is using a double list comprehension (one index for the row and one for the column), while another one is using the numpy `column_stack()` function. When dealing with matrices, `numpy.matrix` is a good data type to work with. In any case, inspect X to make sure it looks OK. To fit higher order polynomials, we need to add extra columns to X, therefore build it with $K$ as a parameter.\n",
    "</div>"
   ]
  },
  {
   "cell_type": "markdown",
   "metadata": {},
   "source": [
    "<div class=\"alert alert-info\">\n",
    "Given X, we can easily compute $\\hat{\\mathbf{w}}$ using `*`, `.I` and `.T` operators to respectively multiply, invert and transpose matrices. Make sure to correctly multiply vectors, i.e., $\\mathbf{t}$, and matrices.\n",
    "</div>"
   ]
  },
  {
   "cell_type": "markdown",
   "metadata": {},
   "source": [
    "<div class=\"alert alert-info\">\n",
    "Write a function that computes $\\hat{\\mathbf{w}}$ for a given $\\mathbf{X}$, $\\mathbf{t}$ and $K$.\n",
    "It could be useful to also define a function to create $X$ given an $x$ and a $K$.\n",
    "</div>"
   ]
  },
  {
   "cell_type": "code",
   "execution_count": 17,
   "metadata": {
    "collapsed": true
   },
   "outputs": [],
   "source": [
    "def get_X(x, n):\n",
    "    \n",
    "    \"\"\"\n",
    "    Compute the matrix 'X' featuring 'x' raised to higher powers.\n",
    "    Rescaling of the original inputs is recommended in order to avoid numerical instability.\n",
    "    \n",
    "    TO COMPLETE\n",
    "    \"\"\"\n",
    "    if n > 3:\n",
    "        x = x- np.min(x)\n",
    "        x = x / 4\n",
    "    \n",
    "    X_ = np.ones((len(x), 1))\n",
    "    for i in range(1, n + 1):\n",
    "        X_ = np.column_stack((X_, np.power(x, i)))\n",
    "    \n",
    "    return X_"
   ]
  },
  {
   "cell_type": "code",
   "execution_count": 18,
   "metadata": {
    "collapsed": true
   },
   "outputs": [],
   "source": [
    "def get_w_hat(x_, y, n):\n",
    "    \n",
    "    \"\"\"\n",
    "    TO COMPLETE\n",
    "    \"\"\"\n",
    "    X_ = get_X(x_, n)\n",
    "    w_hat = (np.linalg.inv(X_.T.dot(X_))).dot(X_.T).dot(np.array(y))\n",
    "    \n",
    "    return w_hat"
   ]
  },
  {
   "cell_type": "markdown",
   "metadata": {},
   "source": [
    "<div class=\"alert alert-info\">\n",
    "Try different values of K and comment the results.\n",
    "<br><br>\n",
    "If you want to look at the effect of increasing the polynomial order above 4, you’ll need to\n",
    "rescale the $x$ (Olympic year) values (do this before you calculate all the $x^k$ stuff)(remember that you need to do the same thing to any test years too...).\n",
    "</div>"
   ]
  },
  {
   "cell_type": "code",
   "execution_count": 19,
   "metadata": {
    "collapsed": true
   },
   "outputs": [],
   "source": [
    "def lsfit_k(x, t, k):\n",
    "    \n",
    "    # Compute optimal 'w' and 'loss' for a model of polynomial order 'k'\n",
    "\n",
    "    \"\"\"\n",
    "    TO COMPLETE\n",
    "    \"\"\"\n",
    "\n",
    "    # W HAT\n",
    "    w_hat = get_w_hat(x, t, k)\n",
    "    \n",
    "    # LOSS\n",
    "    loss = np.square(t - get_X(x, k).dot(w_hat)).mean(axis=0)\n",
    "    \n",
    "    return w_hat, loss"
   ]
  },
  {
   "cell_type": "code",
   "execution_count": 20,
   "metadata": {
    "scrolled": false
   },
   "outputs": [
    {
     "name": "stdout",
     "output_type": "stream",
     "text": [
      "0 [ 10.38962963] 0.268092455418\n",
      "1 [  3.64164559e+01  -1.33308857e-02] 0.0503071104757\n",
      "2 [  4.55597855e+02  -4.43160485e-01   1.10151552e-04] 0.0379585466347\n",
      "3 [  2.36798576e+04  -3.61403888e+01   1.83965118e-02  -3.12191035e-06] 0.0296116568245\n",
      "4 [  1.16350040e+01  -2.86490307e-01   2.55519109e-02  -1.06246320e-03\n",
      "   1.53982916e-05] 0.027060311455\n",
      "5 [  1.17609670e+01  -4.53086023e-01   6.99555283e-02  -5.37006803e-03\n",
      "   1.88766668e-04  -2.46275398e-06] 0.023495510356\n",
      "6 [  1.18214350e+01  -5.83023559e-01   1.23237491e-01  -1.35198144e-02\n",
      "   7.54677756e-04  -2.05945007e-05   2.17866377e-07] 0.0220163868218\n",
      "7 [  1.18843138e+01  -8.25429781e-01   2.65129341e-01  -4.40342127e-02\n",
      "   3.85909024e-03  -1.82498533e-04   4.40637887e-06  -4.26041536e-08] 0.0197026327914\n"
     ]
    }
   ],
   "source": [
    "K = 8\n",
    "for k in range(K):\n",
    "    \n",
    "    (w_hat, loss) = lsfit_k(x, t, k)\n",
    "    \"\"\"\n",
    "    Plot results for different 'k' (separate plots)\n",
    "    In each case, also indicate the loss obtained by the constructed model\n",
    "    \"\"\"\n",
    "    print(k, w_hat, loss)\n",
    "    \n",
    "plt.show()"
   ]
  },
  {
   "cell_type": "markdown",
   "metadata": {},
   "source": [
    "<div class=\"alert alert-info\">\n",
    "Comment on your results.\n",
    "</div>"
   ]
  },
  {
   "cell_type": "code",
   "execution_count": null,
   "metadata": {
    "collapsed": true
   },
   "outputs": [],
   "source": []
  },
  {
   "cell_type": "markdown",
   "metadata": {},
   "source": [
    "<div class=\"alert alert-info\">\n",
    "To make predictions, at a column vector of test points, `x_test`, we need to create `X_test` and then multply it by `w_hat`. For example:</div>"
   ]
  },
  {
   "cell_type": "code",
   "execution_count": null,
   "metadata": {
    "collapsed": true
   },
   "outputs": [],
   "source": [
    "k_pred = 3\n",
    "x_test = [2012, 2016]\n",
    "\n",
    "X_test = ... # TO COMPLETE\n",
    "w_hat = ... # TO COMPLETE\n",
    "\n",
    "predictions = ... # TO COMPLETE\n",
    "\n",
    "print(\"Predicted time in 2012:\", predictions[0])\n",
    "print(\"Predicted time in 2016:\", predictions[1])"
   ]
  },
  {
   "cell_type": "markdown",
   "metadata": {},
   "source": [
    "<div class=\"alert alert-info\">\n",
    "Write a function that, when given `x`, `t` and `x_test`, computes `w_hat` and makes predictions at `x_test`.</div>"
   ]
  },
  {
   "cell_type": "code",
   "execution_count": null,
   "metadata": {
    "collapsed": true
   },
   "outputs": [],
   "source": [
    "def predict(x, t, x_test, K=1):\n",
    "       \n",
    "    \"\"\"\n",
    "    TO COMPLETE\n",
    "    \"\"\"\n",
    "    \n",
    "    return predictions"
   ]
  },
  {
   "cell_type": "code",
   "execution_count": null,
   "metadata": {
    "collapsed": true
   },
   "outputs": [],
   "source": [
    "print(predict(x, t, x_test, 1))"
   ]
  },
  {
   "cell_type": "markdown",
   "metadata": {},
   "source": [
    "<div class=\"alert alert-info\">You may find it interesting to test your code with different datasets. The following code will generate data from a third order polynomial:</div>"
   ]
  },
  {
   "cell_type": "code",
   "execution_count": 5,
   "metadata": {},
   "outputs": [
    {
     "data": {
      "image/png": "[encoded data removed]",
      "text/plain": [
       "<matplotlib.figure.Figure at 0x108d95048>"
      ]
     },
     "metadata": {},
     "output_type": "display_data"
    }
   ],
   "source": [
    "x_ex = np.sort(np.random.rand(50))\n",
    "x_test_ex = np.sort(np.random.rand(200))\n",
    "noise = 0.5\n",
    "t_ex = 5*(x_ex**3) - x_ex**2 + x_ex + np.random.rand(50)*noise # third order plus noise\n",
    "t_test_ex = 5*(x_test_ex**3) - x_test_ex**2 + x_test_ex + np.random.rand(200)*noise;\n",
    "plt.figure(figsize=(15,5))\n",
    "ax = plt.gca()\n",
    "ax.scatter(x_ex, t_ex, color='b', s=10)\n",
    "ax.scatter(x_test_ex, t_test_ex, color='r', s=10)\n",
    "plt.grid()\n",
    "plt.show()"
   ]
  },
  {
   "cell_type": "code",
   "execution_count": null,
   "metadata": {
    "collapsed": true
   },
   "outputs": [],
   "source": [
    "K_ex = 7\n",
    "mean_err_ex = []\n",
    "\n",
    "\"\"\"\n",
    "Evaluate how the mean error changes with respect to higher order polynomial models.\n",
    "\"\"\"\n",
    "\n",
    "for k in range(1, K_ex):\n",
    "    predictions_ex = ... # TO COMPLETE\n",
    "    mean_err_ex.append(...) # TO COMPLETE"
   ]
  },
  {
   "cell_type": "markdown",
   "metadata": {},
   "source": [
    "<div class=\"alert alert-info\">\n",
    "For which polynomial order is the smallest error observed?\n",
    "</div>"
   ]
  },
  {
   "cell_type": "code",
   "execution_count": null,
   "metadata": {
    "collapsed": true
   },
   "outputs": [],
   "source": [
    "plt.figure(figsize=(15,5))\n",
    "x_ax = range(1,K_ex)\n",
    "plt.plot(x_ax,mean_err_ex)\n",
    "plt.grid()\n",
    "plt.show()"
   ]
  },
  {
   "cell_type": "code",
   "execution_count": null,
   "metadata": {
    "collapsed": true
   },
   "outputs": [],
   "source": []
  },
  {
   "cell_type": "markdown",
   "metadata": {},
   "source": [
    "## 3. Cross-validation"
   ]
  },
  {
   "cell_type": "markdown",
   "metadata": {},
   "source": [
    "### Write a script that will perform LOO cross-validation\n",
    "<div class=\"alert alert-info\">\n",
    "Some hints (you can generate data using the code above – you won’t need to define `x_test` or `t_test`)\n",
    "<br>\n",
    "You’ll need to:\n",
    "<ul>\n",
    "<li> Write a loop that removes the data-points one by one, find w_hat on the\n",
    "reduced dataset and then compare the prediction on the removed data-point and compare\n",
    "it to the true value.\n",
    "\n",
    "<li> Create a copy of `X` with the n-th data-point (row) removed\n",
    "\n",
    "<li> Create a copy of the n-th row of `X`\n",
    "\n",
    "</ul>\n",
    "You can use your previous function for finding `w` hat and pass it `trainX` instead of `X`.\n",
    "<br>\n",
    "Plot the average error for different polynomial orders. \n",
    "<br><br>\n",
    "Does your code predict the correct one?\n",
    "</div>"
   ]
  },
  {
   "cell_type": "markdown",
   "metadata": {},
   "source": [
    "<div class=\"alert alert-success\">\n",
    "Let's generate the dataset from scratch.\n",
    "</div>"
   ]
  },
  {
   "cell_type": "code",
   "execution_count": null,
   "metadata": {
    "collapsed": true
   },
   "outputs": [],
   "source": [
    "x_ex = np.sort(np.random.rand(50))\n",
    "noise = 0.5\n",
    "t_ex = 5*(x_ex**3) - x_ex**2 + x_ex + np.random.rand(50)*noise # third order plus noise"
   ]
  },
  {
   "cell_type": "code",
   "execution_count": null,
   "metadata": {
    "collapsed": true
   },
   "outputs": [],
   "source": [
    "def LOOCV(data, labels, order):\n",
    "    \n",
    "    \"\"\"\n",
    "    TO COMPLETE\n",
    "    \"\"\"\n",
    "    \n",
    "    return mse_list"
   ]
  },
  {
   "cell_type": "code",
   "execution_count": null,
   "metadata": {
    "collapsed": true
   },
   "outputs": [],
   "source": [
    "mse_LOOCV = LOOCV(x_ex, t_ex, 8)\n",
    "\n",
    "for i in range(mse_LOOCV.size):\n",
    "    print(\"Order:\", i, \"MSE:\", mse_LOOCV[i])"
   ]
  },
  {
   "cell_type": "code",
   "execution_count": null,
   "metadata": {
    "collapsed": true
   },
   "outputs": [],
   "source": [
    "plt.figure(figsize=(15,5))\n",
    "plt.plot(mse_LOOCV)\n",
    "plt.xlabel(\"Order\")\n",
    "plt.ylabel(\"MSE\")\n",
    "plt.grid()\n",
    "plt.show()"
   ]
  },
  {
   "cell_type": "markdown",
   "metadata": {},
   "source": [
    "<h1 style=\"text-align:center\">Bayesian Linear Regression</h1>\n"
   ]
  },
  {
   "cell_type": "markdown",
   "metadata": {},
   "source": [
    "## 1. Aims\n",
    "<div class=\"alert alert-info\">\n",
    "<ul>\n",
    "<li>Implement the maximum likelihood estimate.\n",
    "<li>Use this to explore uncertainty in parameter values.\n",
    "<li>Make predictions.\n",
    "</ul>\n",
    "</div>"
   ]
  },
  {
   "cell_type": "markdown",
   "metadata": {},
   "source": [
    "## 2. LOO CV\n",
    "<div class=\"alert alert-info\">\n",
    "Make sure you’ve completed the previous assignments.\n",
    "</div>"
   ]
  },
  {
   "cell_type": "markdown",
   "metadata": {},
   "source": [
    "## 3. Maximum likelihood\n",
    "<div class=\"alert alert-info\">\n",
    "1. Using the ML estimators given in the lectures, compute $\\hat{\\mathbf{w}}$ and $\\hat{\\sigma^2}$ on the Olympic data for polynomials of first, second and third order. \n",
    "<br>\n",
    "2. Plot polynomial order versus $\\hat{\\sigma^2}$. What do you expect to see? What do you see?\n",
    "</div>\n"
   ]
  },
  {
   "cell_type": "code",
   "execution_count": null,
   "metadata": {
    "collapsed": true
   },
   "outputs": [],
   "source": [
    "def get_sigma2_hat(X, w_hat, t):\n",
    "    \n",
    "    \"\"\"\n",
    "    TO COMPLETE\n",
    "    \"\"\"\n",
    "    \n",
    "    return sigma2_hat"
   ]
  },
  {
   "cell_type": "code",
   "execution_count": null,
   "metadata": {
    "collapsed": true
   },
   "outputs": [],
   "source": []
  },
  {
   "cell_type": "markdown",
   "metadata": {},
   "source": [
    "<div class=\"alert alert-info\">\n",
    "3. Using your CV code from the previous exercise, perform a LOO CV analysis for maximum likelihood for polynomials of order 0 to 8.</div>"
   ]
  },
  {
   "cell_type": "code",
   "execution_count": null,
   "metadata": {
    "collapsed": true
   },
   "outputs": [],
   "source": []
  },
  {
   "cell_type": "markdown",
   "metadata": {},
   "source": [
    "## 4. Uncertainty in estimates\n",
    "<div class=\"alert alert-info\">\n",
    "1. For the first order polynomial, compute $cov(\\hat{\\mathbf{w}})$ (use $\\hat{\\sigma^2}$ in place of $\\sigma^2$).\n",
    "<br><br>\n",
    "$$\n",
    "cov(\\hat{\\mathbf{w}}) = \\sigma^2 (\\mathbf{X}^T\\mathbf{X})^{-1}\n",
    "$$\n",
    "</div>\n"
   ]
  },
  {
   "cell_type": "code",
   "execution_count": null,
   "metadata": {
    "collapsed": true
   },
   "outputs": [],
   "source": [
    "def get_cov_w(x, t, order):\n",
    "    \n",
    "    \"\"\"\n",
    "    TO COMPLETE\n",
    "    \"\"\"\n",
    "    \n",
    "    return cov_w_hat "
   ]
  },
  {
   "cell_type": "code",
   "execution_count": null,
   "metadata": {
    "collapsed": true
   },
   "outputs": [],
   "source": []
  },
  {
   "cell_type": "markdown",
   "metadata": {},
   "source": [
    "<div class=\"alert alert-info\">\n",
    "2. Sample 10 values of $\\hat{\\mathbf{w}}$ from $\\mathcal{N}(\\hat{\\mathbf{w}}, cov(\\hat{\\mathbf{w}}))$ using `multivariate_normal()` from the numpy random module and plot all the models with the data.\n",
    "</div>\n"
   ]
  },
  {
   "cell_type": "code",
   "execution_count": null,
   "metadata": {
    "collapsed": true
   },
   "outputs": [],
   "source": [
    "w_samples = []\n",
    "t_pred = []\n",
    "plt.figure(figsize=(15,8))\n",
    "plt.subplot(111)\n",
    "\n",
    "for i in range(10):\n",
    "    w_samples.append(np.matrix(np.random.multivariate_normal( ... )).T) # TO COMPLETE\n",
    "    t_pred.append( ... ) # TO COMPLETE\n",
    "    plt.plot(x, t_pred[i])\n",
    "    \n",
    "plt.scatter(x, t, color='k')    \n",
    "plt.xlabel('Year', fontsize=15)\n",
    "plt.ylabel('Time [s]', fontsize=15)\n",
    "plt.title('Olympics 100m', fontsize=20)\n",
    "plt.grid()\n",
    "plt.show()"
   ]
  },
  {
   "cell_type": "markdown",
   "metadata": {},
   "source": [
    "## 5. Uncertainty in predictions\n",
    "<div class=\"alert alert-info\">\n",
    "1. Load synthetic_data.mat from the ASI collaborative space. It includes the\n",
    "variables:\n",
    "<ul>\n",
    "<li>x\n",
    "<li>t\n",
    "<li>testx\n",
    "</ul>\n",
    "2. Pick a polynomial order between 1 and 7 (repeat with others if you have time).\n",
    "<br>\n",
    "3. Find $cov(\\hat{\\mathbf{w}})$ and $\\hat{\\sigma^2}$.\n",
    "</div>\n"
   ]
  },
  {
   "cell_type": "code",
   "execution_count": null,
   "metadata": {
    "collapsed": true
   },
   "outputs": [],
   "source": [
    "synth = scipy.io.loadmat('synthetic_data.mat')\n",
    "x = synth['x'].reshape(-1)\n",
    "t = synth['t'].reshape(-1)\n",
    "x_test = synth['testx'].reshape(-1)\n",
    "print(x.shape)\n",
    "print(t.shape)\n",
    "print(x_test.shape)"
   ]
  },
  {
   "cell_type": "code",
   "execution_count": null,
   "metadata": {
    "collapsed": true
   },
   "outputs": [],
   "source": [
    "plt.figure(figsize=(15,5))\n",
    "ax = plt.gca()\n",
    "ax.scatter(x, t, color='k')\n",
    "plt.title('Synthetic Data', fontsize=25)\n",
    "plt.grid()\n",
    "plt.show()"
   ]
  },
  {
   "cell_type": "code",
   "execution_count": null,
   "metadata": {
    "collapsed": true
   },
   "outputs": [],
   "source": []
  },
  {
   "cell_type": "markdown",
   "metadata": {},
   "source": [
    "<div class=\"alert alert-info\">\n",
    "4. Compute the predictive means. If you create $\\mathbf{X}_{new}$ in exactly the same way as you created X, you’ll be able to do this for all test points in one operation:\n",
    "$$\n",
    "t_{new} = \\mathbf{X}_{new} \\mathbf{\\hat{\\mathbf{w}}}\n",
    "$$\n",
    "</div>\n"
   ]
  },
  {
   "cell_type": "code",
   "execution_count": null,
   "metadata": {
    "collapsed": true
   },
   "outputs": [],
   "source": [
    "X_test = ... # TO COMPLETE\n",
    "t_test = ... # TO COMPLETE"
   ]
  },
  {
   "cell_type": "markdown",
   "metadata": {},
   "source": [
    "<div class=\"alert alert-info\">\n",
    "5. For each $\\mathbf{x_{new}}$ (each value of `testx` expanded into a vector, i.e., each row of $\\mathbf{X}_{new}$), compute the predictive variance:\n",
    "$$\n",
    "\\sigma^2_{new} = \\sigma^2 \\mathbf{x^T_{new}}(\\mathbf{X^TX})^{-1} \\mathbf{x_{new}}\n",
    "$$\n",
    "</div>"
   ]
  },
  {
   "cell_type": "code",
   "execution_count": null,
   "metadata": {
    "collapsed": true
   },
   "outputs": [],
   "source": []
  },
  {
   "cell_type": "markdown",
   "metadata": {},
   "source": [
    "<div class=\"alert alert-info\">\n",
    "6. Use `errorbar()` to plot the data.\n",
    "</div>"
   ]
  },
  {
   "cell_type": "code",
   "execution_count": null,
   "metadata": {
    "collapsed": true
   },
   "outputs": [],
   "source": [
    "plt.figure(figsize=(15,10))\n",
    "plt.errorbar( ... ) # TO COMPLETE\n",
    "plt.scatter( ... ) # TO COMPLETE\n",
    "plt.title('Synthetic Data', fontsize=20)\n",
    "plt.grid()\n",
    "plt.show()"
   ]
  },
  {
   "cell_type": "markdown",
   "metadata": {},
   "source": [
    "<div class=\"alert alert-info\">\n",
    "7. What do you notice – is it what you expected?\n",
    "</div>"
   ]
  },
  {
   "cell_type": "code",
   "execution_count": null,
   "metadata": {
    "collapsed": true
   },
   "outputs": [],
   "source": []
  },
  {
   "cell_type": "markdown",
   "metadata": {},
   "source": [
    "<div class=\"alert alert-info\">\n",
    "8. Repeat with the data given in the file synthetic_data_2.mat. What do you notice?\n",
    "</div>"
   ]
  },
  {
   "cell_type": "code",
   "execution_count": null,
   "metadata": {
    "collapsed": true
   },
   "outputs": [],
   "source": [
    "synth = scipy.io.loadmat('synthetic_data_2.mat')\n",
    "x = synth['x'].reshape(-1)\n",
    "t = synth['t'].reshape(-1)\n",
    "x_test = synth['testx'].reshape(-1)\n",
    "# print(x.shape)\n",
    "# print(t.shape)\n",
    "# print(x_test.shape)\n",
    "plt.figure(figsize=(15,5))\n",
    "ax = plt.gca()\n",
    "ax.scatter(x, t, color='k')\n",
    "plt.title('Synthetic Data', fontsize=25)\n",
    "plt.grid()\n",
    "plt.show()"
   ]
  },
  {
   "cell_type": "code",
   "execution_count": null,
   "metadata": {
    "collapsed": true
   },
   "outputs": [],
   "source": []
  },
  {
   "cell_type": "markdown",
   "metadata": {},
   "source": [
    "<h1 style=\"text-align:center\">Bayesian inference for a coin tossing experiment</h1>\n"
   ]
  },
  {
   "cell_type": "markdown",
   "metadata": {},
   "source": [
    "## 1. Aims:\n",
    "<div class=\"alert alert-info\">\n",
    "<ul>\n",
    "<li> To become familiar with statistical operations in python.\n",
    "<li> To do some simple Bayesian things.\n",
    "</ul>\n",
    "</div>"
   ]
  },
  {
   "cell_type": "markdown",
   "metadata": {},
   "source": [
    "## 2. Coin Tossing\n",
    "### 2.1 Computing posterior\n",
    "<div class=\"alert alert-info\">\n",
    "The beta probability density function is defined as:\n",
    "$$\n",
    "p(r \\vert \\alpha, \\beta) = \\dfrac{\\Gamma(\\alpha + \\beta)}{\\Gamma(\\alpha)\\Gamma(\\beta)}r^{\\alpha-1}(1-r)^{\\beta-1} \n",
    "$$\n",
    "where $0 \\le r \\le 1$ and $\\alpha, \\beta> 0$.\n",
    "You can use the `plot_beta()` function.\n",
    "</div>"
   ]
  },
  {
   "cell_type": "code",
   "execution_count": null,
   "metadata": {
    "collapsed": true
   },
   "outputs": [],
   "source": [
    "from scipy.stats import beta\n",
    "from scipy.special import gamma as gamma_func\n",
    "from scipy.misc import comb"
   ]
  },
  {
   "cell_type": "code",
   "execution_count": null,
   "metadata": {
    "collapsed": true
   },
   "outputs": [],
   "source": [
    "def plot_beta(a,b, plot=False):\n",
    "    plt.figure(figsize=(15,5))\n",
    "    x = np.linspace(0, 1, 1000)\n",
    "    plt.plot(x, beta.pdf(x, a, b),'r')\n",
    "    plt.title(\"beta pdf: alpha=\" + str(a) + \" beta=\" + str(b))\n",
    "    plt.show()"
   ]
  },
  {
   "cell_type": "code",
   "execution_count": null,
   "metadata": {
    "collapsed": true
   },
   "outputs": [],
   "source": [
    "plot_beta(a=2, b=2)"
   ]
  },
  {
   "cell_type": "markdown",
   "metadata": {},
   "source": [
    "<div class=\"alert alert-info\">\n",
    "1. $r$ is the probability of some hypothetical coin landing heads. The beta distribution is a suitable prior distribution for $r$. Choose 2 different pairs of values $\\alpha$ and $\\beta$ and plot the corresponding densities. For both cases, describe the possible beliefs they encode about the coin. Note, there is no ‘right’ answer here, just think about how likely different values of $r$ are in your densities and how this reflects on the coin.\n",
    "</div>"
   ]
  },
  {
   "cell_type": "code",
   "execution_count": null,
   "metadata": {
    "collapsed": true
   },
   "outputs": [],
   "source": [
    "plot_beta(a=1, b=1)"
   ]
  },
  {
   "cell_type": "markdown",
   "metadata": {},
   "source": [
    "<div class=\"alert alert-info\">\n",
    "Observe how the distribution changes for different values of 'a' and 'b', and comment on your results.\n",
    "</div>"
   ]
  },
  {
   "cell_type": "code",
   "execution_count": null,
   "metadata": {
    "collapsed": true
   },
   "outputs": [],
   "source": [
    "plot_beta( ... ) # TO COMPLETE"
   ]
  },
  {
   "cell_type": "code",
   "execution_count": null,
   "metadata": {
    "collapsed": true
   },
   "outputs": [],
   "source": []
  },
  {
   "cell_type": "markdown",
   "metadata": {},
   "source": [
    "<div class=\"alert alert-info\">\n",
    "2. `coin1()` and `coin2()` are two ‘coins’ that you can use. In either case, calling the function with an argument N tosses the coin N times and returns the number of heads. Pick either one and using the equations we derived in the class, along with any choice for $\\alpha$ and $\\beta$, plot the posterior density for $r$ after $N = 1, 5, 10, 100$ tosses. Use `plot_beta()` to do the plotting. You can put them all on one plot or all on separate plots. Explain what you see.\n",
    "</div>"
   ]
  },
  {
   "cell_type": "code",
   "execution_count": null,
   "metadata": {
    "collapsed": true
   },
   "outputs": [],
   "source": [
    "def coin1(N):\n",
    "    return sum(np.random.random(N)<=0.3)\n",
    "def coin2(N):\n",
    "    return sum(np.random.random(N)<=0.8)"
   ]
  },
  {
   "cell_type": "code",
   "execution_count": null,
   "metadata": {
    "collapsed": true
   },
   "outputs": [],
   "source": [
    "yN = [coin2(N) for N in range(1000)]\n",
    "plt.figure(figsize=(10,5))\n",
    "plt.plot(list(range(1000)), yN)\n",
    "plt.xlabel(\"Number of tosses\")\n",
    "plt.ylabel(\"Number of heads\")\n",
    "plt.title(\"coin2\")\n",
    "plt.grid()\n",
    "plt.show()"
   ]
  },
  {
   "cell_type": "markdown",
   "metadata": {},
   "source": [
    "<div class=\"alert alert-success\">\n",
    "So, `coin2()` is biased to generate more heads (roughly 8 out of 10).\n",
    "</div>"
   ]
  },
  {
   "cell_type": "code",
   "execution_count": null,
   "metadata": {
    "collapsed": true
   },
   "outputs": [],
   "source": [
    "N = 1000\n",
    "\n",
    "yN1, yN2 = coin1(N), coin2(N)\n",
    "\n",
    "# Assume coins are fair\n",
    "\n",
    "alpha1 = 50\n",
    "beta1 = 50\n",
    "\n",
    "# Compute the posterior 'gamma' and 'delta' parameters\n",
    "gamma1, gamma2 = ... # TO COMPLETE\n",
    "delta1, delta2 = ... # TO COMPLETE\n",
    "\n",
    "plt.figure(figsize=(15,5))\n",
    "x = np.linspace(0, 1, 1000)\n",
    "plt.plot(x, beta.pdf(x, alpha1, beta1),'r', label='prior')\n",
    "plt.plot(x, beta.pdf(x, gamma1, delta1),'b', label='posterior coin1')\n",
    "plt.plot(x, beta.pdf(x, gamma2, delta2),'g', label='posterior coin2')\n",
    "plt.legend()\n",
    "plt.grid()\n",
    "plt.show()"
   ]
  },
  {
   "cell_type": "code",
   "execution_count": null,
   "metadata": {
    "collapsed": true
   },
   "outputs": [],
   "source": []
  },
  {
   "cell_type": "code",
   "execution_count": null,
   "metadata": {
    "collapsed": true
   },
   "outputs": [],
   "source": [
    "N = 1000\n",
    "\n",
    "yN1, yN2 = coin1(N), coin2(N)\n",
    "\n",
    "# Assume coins are biased\n",
    "\n",
    "alpha1 = 50\n",
    "beta1 = 10\n",
    "\n",
    "# Compute the posterior 'gamma' and 'delta' parameters\n",
    "\n",
    "gamma1, gamma2 = ... # TO COMPLETE\n",
    "delta1, delta2 = ... # TO COMPLETE\n",
    "\n",
    "\n",
    "plt.figure(figsize=(15,5))\n",
    "x = np.linspace(0, 1, 1000)\n",
    "plt.plot(x, beta.pdf(x, alpha1, beta1),'r', label='prior')\n",
    "plt.plot(x, beta.pdf(x, gamma1, delta1),'b', label='posterior coin1')\n",
    "plt.plot(x, beta.pdf(x, gamma2, delta2),'g', label='posterior coin2')\n",
    "plt.legend()\n",
    "plt.grid()\n",
    "plt.show()"
   ]
  },
  {
   "cell_type": "code",
   "execution_count": null,
   "metadata": {
    "collapsed": true
   },
   "outputs": [],
   "source": []
  },
  {
   "cell_type": "code",
   "execution_count": null,
   "metadata": {
    "collapsed": true
   },
   "outputs": [],
   "source": [
    "N = [1, 5, 10, 100, 1000]\n",
    "cs = ['b', 'c', 'g', 'y', 'r']\n",
    "a = 2\n",
    "b = 2\n",
    "x = np.linspace(0, 1, 100)\n",
    "plt.figure(figsize=(15,8))\n",
    "for i,n in enumerate(N):\n",
    "    # Compute the posterior distribution for coin2 given 'n' tosses \n",
    "    yN1 = ... # TO COMPLETE\n",
    "    gamma = ... # TO COMPLETE\n",
    "    delta = ... # TO COMPLETE\n",
    "    plt.plot(x, beta.pdf( ... ),color=cs[i], label=\"N=\"+str(n)) # TO COMPLETE\n",
    "    \n",
    "plt.plot(x, beta.pdf( ... ),'k+', label='prior') # TO COMPLETE\n",
    "plt.title(\"Coin2\")\n",
    "plt.legend()\n",
    "plt.grid()\n",
    "plt.show()"
   ]
  },
  {
   "cell_type": "code",
   "execution_count": null,
   "metadata": {
    "collapsed": true
   },
   "outputs": [],
   "source": []
  },
  {
   "cell_type": "markdown",
   "metadata": {},
   "source": [
    "<div class=\"alert alert-info\">\n",
    "3. Repeat the previous exercise with a different set of prior parameter values ($\\alpha$ and $\\beta$). What\n",
    "do you notice?\n",
    "</div>"
   ]
  },
  {
   "cell_type": "code",
   "execution_count": null,
   "metadata": {
    "collapsed": true
   },
   "outputs": [],
   "source": [
    "N = [1, 5, 10, 100, 1000]\n",
    "cs = ['b', 'c', 'g', 'y', 'r']\n",
    "a = 1\n",
    "b = 5\n",
    "\n",
    "\"\"\"\n",
    "TO COMPLETE\n",
    "\"\"\""
   ]
  },
  {
   "cell_type": "code",
   "execution_count": null,
   "metadata": {
    "collapsed": true
   },
   "outputs": [],
   "source": []
  },
  {
   "cell_type": "markdown",
   "metadata": {},
   "source": [
    "### 2.2 Making predictions\n",
    "<div class=\"alert alert-info\">\n",
    "`fairground()` is a coin game – you pay £1 to play. The stall owner tosses a coin ten times. If there are 6 or fewer heads, you win £2. The function returns 1 if you win and 0 if you lose.\n",
    "<br><br>\n",
    "4. The probability that you win could be approximated by playing the game lots of times and computing the proportion of times you do win! By embedding fairground.m in a loop, approximate the probability that you will win in this way.\n",
    "</div>"
   ]
  },
  {
   "cell_type": "code",
   "execution_count": null,
   "metadata": {
    "collapsed": true
   },
   "outputs": [],
   "source": [
    "def fairground():\n",
    "    return sum(np.random.random(10)<0.8) <= 6 # coin2"
   ]
  },
  {
   "cell_type": "code",
   "execution_count": null,
   "metadata": {
    "collapsed": true
   },
   "outputs": [],
   "source": [
    "print(\"Approx Winning Probability:\", sum([fairground() for i in range(10000)])/10000)"
   ]
  },
  {
   "cell_type": "markdown",
   "metadata": {},
   "source": [
    "<div class=\"alert alert-info\">\n",
    "5. In the lectures, we derived an expression for the probability of getting $y_{new}$ heads in N tosses having observed $y_N$ heads in N tosses by taking an expectation with respect to the posterior.\n",
    "Choose $\\alpha$ and $\\beta$ as you please (as long as you can justify your choice – do you know anything about this coin?). Use `coin2()` to generate $y_N$ for $N = 10$. Compute the posterior parameters. By using them, the expression from the lectures and the following identity, compute the probability that you will win given the coin tosses you have observed (i.e., you just need to add together a series of the expressions you derived in the lecture). \n",
    "\n",
    "Note that this quantity depends on the prior and the particular $y_N$ you get from `coin2()` and therefore could be quite different from the quantity computed in the previous question.\n",
    "$$\n",
    "P(y_{new}\\le 6 \\vert y_N, \\alpha, \\beta) = \\sum_{a=0}^{6} P(y_{new}=a \\vert y_N, \\alpha, \\beta)\n",
    "$$\n",
    "</div>"
   ]
  },
  {
   "cell_type": "code",
   "execution_count": null,
   "metadata": {
    "collapsed": true
   },
   "outputs": [],
   "source": [
    "Nlook = 50 # the higher this number, the lower our winning probability\n",
    "yN = coin2(Nlook)\n",
    "\n",
    "# Assume the coin is unbiased\n",
    "\n",
    "alpha1 = ... # TO COMPLETE\n",
    "beta1 = ... # TO COMPLETE\n",
    "gamma1 = ... # TO COMPLETE\n",
    "delta1 = ... # TO COMPLETE\n",
    "\n",
    "N = 10\n",
    "p_ynew_se_six = 0 # smaller or equal to 6\n",
    "\n",
    "for ynew in range(7):\n",
    "    # Compute probability using formula given in slides\n",
    "    \n",
    "    \"\"\"\n",
    "    TO COMPLETE\n",
    "    \"\"\"\n",
    "\n",
    "print(p_ynew_se_six)"
   ]
  },
  {
   "cell_type": "code",
   "execution_count": null,
   "metadata": {
    "collapsed": true
   },
   "outputs": [],
   "source": []
  },
  {
   "cell_type": "code",
   "execution_count": null,
   "metadata": {
    "collapsed": true
   },
   "outputs": [],
   "source": [
    "Nlook = 50 # the higher this number, the lower the more accurate our winning probability\n",
    "yN = coin2(Nlook)\n",
    "\n",
    "# Assume the coin is biased\n",
    "\n",
    "alpha1 = ... # TO COMPLETE\n",
    "beta1 = ... # TO COMPLETE\n",
    "gamma1 = ... # TO COMPLETE\n",
    "delta1 = ... # TO COMPLETE\n",
    "\n",
    "N = 10;\n",
    "p_ynew_se_six = 0 # smaller or equal to 6\n",
    "\n",
    "for ynew in range(7):\n",
    "    # Compute probability using formula given in slides\n",
    "    \n",
    "    \"\"\"\n",
    "    TO COMPLETE\n",
    "    \"\"\"\n",
    "\n",
    "print(p_ynew_se_six)"
   ]
  },
  {
   "cell_type": "code",
   "execution_count": null,
   "metadata": {
    "collapsed": true
   },
   "outputs": [],
   "source": []
  }
 ],
 "metadata": {
  "kernelspec": {
   "display_name": "Python 3",
   "language": "python",
   "name": "python3"
  },
  "language_info": {
   "codemirror_mode": {
    "name": "ipython",
    "version": 3
   },
   "file_extension": ".py",
   "mimetype": "text/x-python",
   "name": "python",
   "nbconvert_exporter": "python",
   "pygments_lexer": "ipython3",
   "version": "3.6.2"
  }
 },
 "nbformat": 4,
 "nbformat_minor": 2
}
